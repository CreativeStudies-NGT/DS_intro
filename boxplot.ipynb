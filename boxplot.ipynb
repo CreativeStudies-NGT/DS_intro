{
 "cells": [
  {
   "cell_type": "code",
   "execution_count": 1,
   "metadata": {},
   "outputs": [],
   "source": [
    "%matplotlib inline\n",
    "import numpy as np\n",
    "import matplotlib.pyplot as plt"
   ]
  },
  {
   "cell_type": "code",
   "execution_count": 2,
   "metadata": {},
   "outputs": [
    {
     "data": {
      "text/plain": [
       "array([43.6  , 51.675, 54.75 , 57.225, 64.6  ])"
      ]
     },
     "execution_count": 2,
     "metadata": {},
     "output_type": "execute_result"
    }
   ],
   "source": [
    "x = np.array([43.6, 51.675, 54.75, 57.225, 64.6])\n",
    "x"
   ]
  },
  {
   "cell_type": "code",
   "execution_count": 3,
   "metadata": {},
   "outputs": [
    {
     "data": {
      "image/png": "[encoded data removed]",
      "text/plain": [
       "<Figure size 432x288 with 1 Axes>"
      ]
     },
     "metadata": {
      "needs_background": "light"
     },
     "output_type": "display_data"
    }
   ],
   "source": [
    "data = x\n",
    "plt.title('Basic Plot')\n",
    "plt.boxplot(data);"
   ]
  },
  {
   "cell_type": "code",
   "execution_count": 4,
   "metadata": {},
   "outputs": [
    {
     "name": "stdout",
     "output_type": "stream",
     "text": [
      "第一四分位: 51.675 第二四分位: 54.75 第三四分位 57.225\n",
      "最大値: 64.6 最小値: 43.6\n",
      "中央値 54.75\n"
     ]
    }
   ],
   "source": [
    "# 四分位数、最大値、最小値を取得\n",
    "q_1st = np.percentile(data, 25)\n",
    "q_2nd = np.percentile(data, 50)\n",
    "q_3rd = np.percentile(data, 75)\n",
    "print(\"第一四分位:\", q_1st, \"第二四分位:\", q_2nd, \"第三四分位\", q_3rd)\n",
    "print(\"最大値:\", data.max(), \"最小値:\", data.min())\n",
    "print(\"中央値\", np.median(data))"
   ]
  },
  {
   "cell_type": "code",
   "execution_count": 5,
   "metadata": {},
   "outputs": [
    {
     "data": {
      "text/plain": [
       "array([  8700,  14300,  14900,  16300,  18000,  18600,  18600,  21200,\n",
       "        22200,  24700,  25100,  25500,  25700,  26100,  27100,  27400,\n",
       "        27700,  28100,  28700,  29600,  30600,  34700,  40600,  44900,\n",
       "       130000])"
      ]
     },
     "execution_count": 5,
     "metadata": {},
     "output_type": "execute_result"
    }
   ],
   "source": [
    "y = np.array([87, 143, 149, 163, 180, 186, 186, 212, 222,\n",
    "247, 251, 255, 257, 261, 271, 274, 277, 281,\n",
    "287, 296, 306, 347, 406, 449, 1300])*100\n",
    "y"
   ]
  },
  {
   "cell_type": "code",
   "execution_count": 6,
   "metadata": {},
   "outputs": [
    {
     "name": "stdout",
     "output_type": "stream",
     "text": [
      "[  8700  14300  14900  16300  18000  18600  18600  21200  22200  24700\n",
      "  25100  25500  25700  26100  27100  27400  27700  28100  28700  29600\n",
      "  30600  34700  40600  44900 130000]\n",
      "[ 8700 14300 14900 16300 18000 18600 18600 21200 22200 24700 25100 25500\n",
      " 25700 26100 27100 27400 27700 28100 28700 29600 30600 34700 40600 44900\n",
      " 46600]\n"
     ]
    },
    {
     "data": {
      "image/png": "[encoded data removed]",
      "text/plain": [
       "<Figure size 432x288 with 1 Axes>"
      ]
     },
     "metadata": {
      "needs_background": "light"
     },
     "output_type": "display_data"
    }
   ],
   "source": [
    "data1 = y\n",
    "data2 = np.copy(data1)\n",
    "data2[-1]=46600  # -1 means the last element\n",
    "print(data1)\n",
    "print(data2)\n",
    "\n",
    "plt.boxplot([data1, data2], labels=['Original', 'Corrected'])\n",
    "plt.ylim(0, 150000)\n",
    "plt.grid(which='major',color='gray',linestyle=':')"
   ]
  },
  {
   "cell_type": "code",
   "execution_count": 7,
   "metadata": {},
   "outputs": [
    {
     "name": "stdout",
     "output_type": "stream",
     "text": [
      "第一四分位: 18600.0 第二四分位: 25700.0 第三四分位 28700.0\n",
      "最大値: 130000 最小値: 8700\n",
      "平均値: 29172.0 標準偏差: 22027.011054612016\n",
      "------------------------------------------------------------\n",
      "第一四分位: 18600.0 第二四分位: 25700.0 第三四分位 28700.0\n",
      "最大値: 46600 最小値: 8700\n",
      "平均値: 25836.0 標準偏差: 8919.546176796217\n"
     ]
    }
   ],
   "source": [
    "# 四分位数、最大値、最小値を取得\n",
    "q_1st = np.percentile(data1, 25)\n",
    "q_2nd = np.percentile(data1, 50)\n",
    "q_3rd = np.percentile(data1, 75)\n",
    "print(\"第一四分位:\", q_1st, \"第二四分位:\", q_2nd, \"第三四分位\", q_3rd)\n",
    "print(\"最大値:\", data1.max(), \"最小値:\", data1.min())\n",
    "print(\"平均値:\", data1.mean(), \"標準偏差:\", data1.std(ddof=0))\n",
    "print(\"-\"*60)\n",
    "q_1st = np.percentile(data2, 25)\n",
    "q_2nd = np.percentile(data2, 50)\n",
    "q_3rd = np.percentile(data2, 75)\n",
    "print(\"第一四分位:\", q_1st, \"第二四分位:\", q_2nd, \"第三四分位\", q_3rd)\n",
    "print(\"最大値:\", data2.max(), \"最小値:\", data2.min())\n",
    "print(\"平均値:\", data2.mean(), \"標準偏差:\", data2.std(ddof=0))"
   ]
  },
  {
   "cell_type": "code",
   "execution_count": 8,
   "metadata": {},
   "outputs": [],
   "source": [
    "weight = np.array([43.6, 45.2, 45.4, 45.8, 47.2, 47.8, 48.2, 48.7, 48.8, 48.9, 49.0, 49.0, 49.4,\n",
    "49.5, 49.8, 50.4, 50.5, 50.9, 50.9, 51.2, 51.2, 51.2, 51.3, 51.3, 51.6, 51.7,\n",
    "51.7, 51.8, 52.0, 52.0, 52.1, 52.1, 52.1, 52.2, 52.3, 52.7, 52.7, 52.8, 52.9,\n",
    "52.9, 53.1, 53.1, 53.8, 54.0, 54.5, 54.5, 54.6, 54.7, 54.7, 54.7, 54.8, 54.9,\n",
    "55.1, 55.1, 55.2, 55.3, 55.4, 55.4, 55.4, 55.6, 55.7, 55.8, 55.9, 56.1, 56.3,\n",
    "56.3, 56.3, 56.4, 56.5, 56.7, 56.8, 57.0, 57.1, 57.1, 57.2, 57.3, 57.6, 57.7,\n",
    "57.8, 58.1, 58.4, 58.6, 58.7, 58.7, 58.7, 58.7, 59.1, 59.3, 59.9, 60.0, 60.1,\n",
    "60.3, 60.5, 60.6, 60.6, 60.7, 61.3, 62.7, 64.2, 64.6])"
   ]
  },
  {
   "cell_type": "markdown",
   "metadata": {},
   "source": [
    "### 【演習】上の100人の体重データについて五数要約を求め、さらに箱ひげ図を作成せよ。"
   ]
  },
  {
   "cell_type": "markdown",
   "metadata": {},
   "source": [
    "### 1.1.7 メジアンや分位数は頑健な代表値"
   ]
  },
  {
   "cell_type": "code",
   "execution_count": 9,
   "metadata": {},
   "outputs": [
    {
     "data": {
      "text/plain": [
       "array([  8700,  14300,  14900,  16300,  18000,  18600,  18600,  21200,\n",
       "        22200,  24700,  25100,  25500,  25700,  26100,  27100,  27400,\n",
       "        27700,  28100,  28700,  29600,  30600,  34700,  40600,  44900,\n",
       "       130000])"
      ]
     },
     "execution_count": 9,
     "metadata": {},
     "output_type": "execute_result"
    }
   ],
   "source": [
    "x1=np.array([87, 143, 149, 163, 180, 186, 186, 212, 222,\n",
    "247, 251, 255, 257, 261, 271, 274, 277, 281,\n",
    "287, 296, 306, 347, 406, 449, 1300])*100\n",
    "x1"
   ]
  },
  {
   "cell_type": "code",
   "execution_count": 10,
   "metadata": {},
   "outputs": [
    {
     "name": "stdout",
     "output_type": "stream",
     "text": [
      "平均値： 29172.0\n",
      "標準偏差： 22027.011054612016\n",
      "中央値： 25700.0\n"
     ]
    }
   ],
   "source": [
    "print(\"平均値：\", np.mean(x1))\n",
    "print(\"標準偏差：\", np.std(x1, ddof=0))\n",
    "print(\"中央値：\", np.median(x1))"
   ]
  },
  {
   "cell_type": "code",
   "execution_count": 11,
   "metadata": {},
   "outputs": [],
   "source": [
    "x2 = x1\n",
    "x2[-1] = 46600  # -1 means the last element: 数値変更"
   ]
  },
  {
   "cell_type": "code",
   "execution_count": 12,
   "metadata": {},
   "outputs": [
    {
     "data": {
      "text/plain": [
       "array([ 8700, 14300, 14900, 16300, 18000, 18600, 18600, 21200, 22200,\n",
       "       24700, 25100, 25500, 25700, 26100, 27100, 27400, 27700, 28100,\n",
       "       28700, 29600, 30600, 34700, 40600, 44900, 46600])"
      ]
     },
     "execution_count": 12,
     "metadata": {},
     "output_type": "execute_result"
    }
   ],
   "source": [
    "x2"
   ]
  },
  {
   "cell_type": "code",
   "execution_count": 13,
   "metadata": {},
   "outputs": [
    {
     "name": "stdout",
     "output_type": "stream",
     "text": [
      "平均値： 25836.0\n",
      "標準偏差： 8919.546176796217\n",
      "中央値： 25700.0\n"
     ]
    }
   ],
   "source": [
    "print(\"平均値：\", np.mean(x2))\n",
    "print(\"標準偏差：\", np.std(x2, ddof=0))\n",
    "print(\"中央値：\", np.median(x2))"
   ]
  }
 ],
 "metadata": {
  "kernelspec": {
   "display_name": "Python 3",
   "language": "python",
   "name": "python3"
  },
  "language_info": {
   "codemirror_mode": {
    "name": "ipython",
    "version": 3
   },
   "file_extension": ".py",
   "mimetype": "text/x-python",
   "name": "python",
   "nbconvert_exporter": "python",
   "pygments_lexer": "ipython3",
   "version": "3.7.2"
  }
 },
 "nbformat": 4,
 "nbformat_minor": 2
}
