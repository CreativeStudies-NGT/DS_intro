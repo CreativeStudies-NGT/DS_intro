{
 "cells": [
  {
   "cell_type": "markdown",
   "metadata": {},
   "source": [
    "### コイントスの実験"
   ]
  },
  {
   "cell_type": "code",
   "execution_count": 1,
   "metadata": {},
   "outputs": [],
   "source": [
    "%matplotlib inline\n",
    "import matplotlib.pyplot as plt\n",
    "import numpy as np\n",
    "\n",
    "# パラメータの設定\n",
    "n = 30        # 1試行のコイントス回数\n",
    "p = 0.5       # 表が出る確率\n",
    "trial = 300   # 試行回数"
   ]
  },
  {
   "cell_type": "code",
   "execution_count": 2,
   "metadata": {},
   "outputs": [
    {
     "name": "stdout",
     "output_type": "stream",
     "text": [
      "[12 18 15 19 13 16 15 17 16 19  8 12 19 16 14 17  7 16 12 18 15 12 15 15\n",
      " 14 13 13 16 10 11 12 17 21 16 18 14 17 18 18 14 13 18 18 14 16 17 15 12\n",
      " 15 17 17 10 14 18 13 16 15 13 15 19 20 17 16 12 13 12 13 16 15 14 15 17\n",
      " 13 16 15 11 16 13 15 16 16 14 16 14 13 16 15 16 18 14 12 15 13 16 10 14\n",
      " 16  9 12 14 13 16 10 16 19 14 16 16 17 16 17 19 17 22 14 17 17 14 14 16\n",
      " 16 11 10 16 16 16 19 11 12 14 19 11 11 15 19 20 14 12 14 11 19 14 16 19\n",
      " 13 14 18 18 15 15 15 13 13 11 17 15 15 13 19 18 13 14 19 13 20 10 15 16\n",
      " 14 16 16 14 17 15 13 17 15 13 12 17 20 19 17 12 12 14 12 16 17 18 12 19\n",
      " 12 17 13 12 15 12 12 16 14 14 13 21 17  9 12 19 13 15 11 18 14 15 18  9\n",
      " 16 16 17 11 19 12 16 15 16 18 15 16 15 16 12 16 12 17 20 17 17 13 15 13\n",
      "  9 16 18 12 18 14 15 17 10 20 15 14 11 15 12 17 18 16 12 15 11 16 15 15\n",
      " 11 12 15 12 15 13 22 18  5 15 24 16 21 17 14 15 14 14 13 14 20 15 16 15\n",
      " 21  9 12 16 12 13 17 12  7 14 14 15]\n"
     ]
    }
   ],
   "source": [
    "# 30回コインを投げる（＝1試行）コイントスを繰り返すとき、表が出る回数（300回試行）\n",
    "head_number = np.random.binomial(n, p, trial)\n",
    "print(head_number)"
   ]
  },
  {
   "cell_type": "code",
   "execution_count": 3,
   "metadata": {},
   "outputs": [
    {
     "data": {
      "text/plain": [
       "array([ 0,  1,  2,  3,  4,  5,  6,  7,  8,  9, 10, 11, 12, 13, 14, 15, 16,\n",
       "       17, 18, 19, 20, 21, 22, 23, 24, 25, 26, 27, 28, 29, 30])"
      ]
     },
     "execution_count": 3,
     "metadata": {},
     "output_type": "execute_result"
    }
   ],
   "source": [
    "# ヒストグラムの横軸作成\n",
    "xaxis = np.arange(n+1)\n",
    "xaxis"
   ]
  },
  {
   "cell_type": "code",
   "execution_count": 4,
   "metadata": {},
   "outputs": [
    {
     "data": {
      "text/plain": [
       "array([ 0,  0,  0,  0,  0,  1,  0,  2,  1,  5,  7, 13, 33, 29, 36, 44, 48,\n",
       "       30, 20, 17,  7,  4,  2,  0,  1,  0,  0,  0,  0,  0,  0],\n",
       "      dtype=int64)"
      ]
     },
     "execution_count": 4,
     "metadata": {},
     "output_type": "execute_result"
    }
   ],
   "source": [
    "# ヒストグラムの縦軸作成\n",
    "count = np.bincount(head_number, minlength=n+1)\n",
    "count"
   ]
  },
  {
   "cell_type": "code",
   "execution_count": 5,
   "metadata": {},
   "outputs": [
    {
     "data": {
      "image/png": "[encoded data removed]",
      "text/plain": [
       "<Figure size 432x288 with 1 Axes>"
      ]
     },
     "metadata": {
      "needs_background": "light"
     },
     "output_type": "display_data"
    }
   ],
   "source": [
    "plt.bar(xaxis, count)\n",
    "plt.grid(color='gray',linestyle=':')"
   ]
  },
  {
   "cell_type": "code",
   "execution_count": 6,
   "metadata": {},
   "outputs": [
    {
     "name": "stdout",
     "output_type": "stream",
     "text": [
      "平均値: 14.916666666666666 / 分散: 8.01638888888889\n"
     ]
    }
   ],
   "source": [
    "# 平均値と分散（experiment）\n",
    "print(\"平均値:\",np.mean(head_number), \"/ 分散:\", np.var(head_number, ddof=0))"
   ]
  },
  {
   "cell_type": "code",
   "execution_count": 7,
   "metadata": {},
   "outputs": [
    {
     "name": "stdout",
     "output_type": "stream",
     "text": [
      "平均値(np): 15.0 / 分散(npq): 7.5\n"
     ]
    }
   ],
   "source": [
    "# 平均値と分散（theory）\n",
    "print(\"平均値(np):\",n*p, \"/ 分散(npq):\", n*p*(1-p))"
   ]
  },
  {
   "cell_type": "code",
   "execution_count": 8,
   "metadata": {},
   "outputs": [
    {
     "data": {
      "text/plain": [
       "array([False, False, False, False, False, False, False, False, False,\n",
       "       False, False, False, False, False, False, False, False, False,\n",
       "       False, False, False, False, False, False, False, False, False,\n",
       "       False, False, False, False, False,  True, False, False, False,\n",
       "       False, False, False, False, False, False, False, False, False,\n",
       "       False, False, False, False, False, False, False, False, False,\n",
       "       False, False, False, False, False, False,  True, False, False,\n",
       "       False, False, False, False, False, False, False, False, False,\n",
       "       False, False, False, False, False, False, False, False, False,\n",
       "       False, False, False, False, False, False, False, False, False,\n",
       "       False, False, False, False, False, False, False, False, False,\n",
       "       False, False, False, False, False, False, False, False, False,\n",
       "       False, False, False, False, False,  True, False, False, False,\n",
       "       False, False, False, False, False, False, False, False, False,\n",
       "       False, False, False, False, False, False, False, False, False,\n",
       "        True, False, False, False, False, False, False, False, False,\n",
       "       False, False, False, False, False, False, False, False, False,\n",
       "       False, False, False, False, False, False, False, False, False,\n",
       "       False, False,  True, False, False, False, False, False, False,\n",
       "       False, False, False, False, False, False, False, False, False,\n",
       "        True, False, False, False, False, False, False, False, False,\n",
       "       False, False, False, False, False, False, False, False, False,\n",
       "       False, False, False, False, False,  True, False, False, False,\n",
       "       False, False, False, False, False, False, False, False, False,\n",
       "       False, False, False, False, False, False, False, False, False,\n",
       "       False, False, False, False, False, False, False, False, False,\n",
       "        True, False, False, False, False, False, False, False, False,\n",
       "       False, False, False, False, False, False,  True, False, False,\n",
       "       False, False, False, False, False, False, False, False, False,\n",
       "       False, False, False, False, False, False, False, False, False,\n",
       "        True, False, False, False,  True, False,  True, False, False,\n",
       "       False, False, False, False, False,  True, False, False, False,\n",
       "        True, False, False, False, False, False, False, False, False,\n",
       "       False, False, False])"
      ]
     },
     "execution_count": 8,
     "metadata": {},
     "output_type": "execute_result"
    }
   ],
   "source": [
    "# 表が20回以上出るイベントを調べてみる。\n",
    "threshold = 20\n",
    "head_number >= threshold  # True が20回以上の試行を表す"
   ]
  },
  {
   "cell_type": "code",
   "execution_count": 9,
   "metadata": {},
   "outputs": [
    {
     "data": {
      "text/plain": [
       "14"
      ]
     },
     "execution_count": 9,
     "metadata": {},
     "output_type": "execute_result"
    }
   ],
   "source": [
    "# 上でTrueの個数を計算\n",
    "sum(head_number >= threshold)  # Trueを1と、Falseを0としてカウントする"
   ]
  },
  {
   "cell_type": "code",
   "execution_count": 10,
   "metadata": {},
   "outputs": [
    {
     "name": "stdout",
     "output_type": "stream",
     "text": [
      "probability: 0.047\n"
     ]
    }
   ],
   "source": [
    "# 全試行回数で除して、表が20回以上出る確率を計算\n",
    "tmp=sum(head_number >= threshold) / trial\n",
    "print(f\"probability:{tmp: 0.3f}\")"
   ]
  }
 ],
 "metadata": {
  "kernelspec": {
   "display_name": "Python 3",
   "language": "python",
   "name": "python3"
  },
  "language_info": {
   "codemirror_mode": {
    "name": "ipython",
    "version": 3
   },
   "file_extension": ".py",
   "mimetype": "text/x-python",
   "name": "python",
   "nbconvert_exporter": "python",
   "pygments_lexer": "ipython3",
   "version": "3.7.2"
  }
 },
 "nbformat": 4,
 "nbformat_minor": 2
}
