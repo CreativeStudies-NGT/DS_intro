{
 "cells": [
  {
   "cell_type": "markdown",
   "metadata": {},
   "source": [
    "### 7.2 不偏推定量\n",
    "#### 【趣旨】標本から母数（母平均/母分散 etc.）を推定する：demonstration\n",
    ">以下の話は、母集団と標本それぞれの統計量と、その間の関係を示す最も基本となるもの。   \n",
    ">しっかりとやっていることの意味を理解すること！！！  "
   ]
  },
  {
   "cell_type": "code",
   "execution_count": 1,
   "metadata": {},
   "outputs": [],
   "source": [
    "%matplotlib inline\n",
    "import matplotlib.pyplot as plt\n",
    "import numpy as np\n",
    "from numpy.random import randint"
   ]
  },
  {
   "cell_type": "code",
   "execution_count": 2,
   "metadata": {},
   "outputs": [
    {
     "name": "stdout",
     "output_type": "stream",
     "text": [
      "母集団 = [5 6 9 5 6 2 5 9 1 7 4 5 0 2 7 9 3 8 3 7]\n",
      "母平均: 5.150 / 母分散: 6.927\n"
     ]
    }
   ],
   "source": [
    "# 0-9の乱数を20個生成（母集団(size=20)を作成）\n",
    "a = randint(0,10,20)\n",
    "print(\"母集団 =\", a)\n",
    "p_mean = np.mean(a)\n",
    "p_var = np.var(a, ddof=0)  #ddof=0: 標本分散（nで割る）\n",
    "print(f\"母平均: {p_mean:5.3f} / 母分散: {p_var:5.3f}\")"
   ]
  },
  {
   "cell_type": "code",
   "execution_count": 3,
   "metadata": {},
   "outputs": [
    {
     "name": "stdout",
     "output_type": "stream",
     "text": [
      "[5 7 2 6 3]\n",
      "mean: 4.6\n"
     ]
    }
   ],
   "source": [
    "# 標本抽出（手動で何度か実行せよ）\n",
    "sample_num = 5\n",
    "sample = np.random.choice(a,sample_num)\n",
    "print(sample)\n",
    "print(\"mean:\",np.mean(sample))"
   ]
  },
  {
   "cell_type": "code",
   "execution_count": 4,
   "metadata": {},
   "outputs": [
    {
     "name": "stdout",
     "output_type": "stream",
     "text": [
      "標本: 1 [9 9 4 5 9]  標本平均:  7.200 / 不偏分散:  6.200 / 標本分散:  4.960\n",
      "標本: 2 [9 5 6 6 4]  標本平均:  6.000 / 不偏分散:  3.500 / 標本分散:  2.800\n",
      "標本: 3 [7 9 3 5 7]  標本平均:  6.200 / 不偏分散:  5.200 / 標本分散:  4.160\n",
      "標本: 4 [9 4 7 2 9]  標本平均:  6.200 / 不偏分散:  9.700 / 標本分散:  7.760\n",
      "標本: 5 [6 2 9 2 3]  標本平均:  4.400 / 不偏分散:  9.300 / 標本分散:  7.440\n",
      "標本: 6 [4 5 5 0 3]  標本平均:  3.400 / 不偏分散:  4.300 / 標本分散:  3.440\n",
      "標本: 7 [9 4 2 6 5]  標本平均:  5.200 / 不偏分散:  6.700 / 標本分散:  5.360\n",
      "標本: 8 [5 5 7 9 9]  標本平均:  7.000 / 不偏分散:  4.000 / 標本分散:  3.200\n",
      "標本: 9 [5 2 2 8 8]  標本平均:  5.000 / 不偏分散:  9.000 / 標本分散:  7.200\n",
      "標本:10 [4 7 8 7 9]  標本平均:  7.000 / 不偏分散:  3.500 / 標本分散:  2.800\n",
      "----------------------------------------\n",
      "標本平均の平均: \t  5.170  *母平均推定量*\n",
      "標本平均の標準偏差: \t  1.191\n",
      "不偏分散の平均: \t  6.883  *母分散推定量*\n",
      "標本分散の平均: \t  5.506\n"
     ]
    }
   ],
   "source": [
    "# 標本抽出\n",
    "sample_mean=[]\n",
    "sample_Uvar=[]\n",
    "sample_var=[]\n",
    "\n",
    "# size20の母集団から、5つランダムに取り出して標本とする操作を1000回繰り返す\n",
    "for k in range(1000):\n",
    "    sample = np.random.choice(a,5)\n",
    "    s_ave = np.mean(sample)\n",
    "    s_var = np.var(sample, ddof=0)   # ddof=0: 標本分散（nで割る）\n",
    "    U_var = np.var(sample, ddof=1)   # ddof=1: 不偏分散（n-1で割る）\n",
    "    if k < 10:\n",
    "        print(f\"標本:{k+1:>2} {sample}  標本平均: {s_ave:6.3f} / 不偏分散: {U_var:6.3f} / 標本分散: {s_var:6.3f}\")\n",
    "    sample_mean.append(s_ave)\n",
    "    sample_var.append(s_var)\n",
    "    sample_Uvar.append(U_var)\n",
    "\n",
    "print(\"-\"*40)\n",
    "print(f\"標本平均の平均: \\t {np.mean(sample_mean):6.3f}  *母平均推定量*\")\n",
    "print(f\"標本平均の標準偏差: \\t {np.sqrt(np.var(sample_mean)):6.3f}\")\n",
    "print(f\"不偏分散の平均: \\t {np.mean(sample_Uvar):6.3f}  *母分散推定量*\")\n",
    "print(f\"標本分散の平均: \\t {np.mean(sample_var):6.3f}\")"
   ]
  },
  {
   "cell_type": "markdown",
   "metadata": {},
   "source": [
    "+ **標本平均に関するヒストグラムの作成・描画**"
   ]
  },
  {
   "cell_type": "code",
   "execution_count": 5,
   "metadata": {},
   "outputs": [
    {
     "data": {
      "image/png": "[encoded data removed]",
      "text/plain": [
       "<Figure size 432x288 with 1 Axes>"
      ]
     },
     "metadata": {
      "needs_background": "light"
     },
     "output_type": "display_data"
    }
   ],
   "source": [
    "plt.hist(sample_mean, bins=20, density=True, alpha=0.4) # bins(option): 棒の数を指定\n",
    "plt.xlabel(\"mean\")\n",
    "plt.ylabel(\"frequency\")\n",
    "\n",
    "# 標本平均を示す縦線（黒破線）の描画\n",
    "plt.vlines(x=np.mean(sample_mean), ymin=0, ymax=0.5, linestyles='dashed', linewidths=1)\n",
    "# 母平均を示す縦線（赤実線）の描画\n",
    "plt.vlines(x=p_mean, ymin=0, ymax=0.5, linestyles='solid', linewidths=3, color=\"r\",alpha=0.5);"
   ]
  },
  {
   "cell_type": "markdown",
   "metadata": {},
   "source": [
    "+ **標本分散と不偏分散に関するヒストグラムの作成・描画**"
   ]
  },
  {
   "cell_type": "code",
   "execution_count": 6,
   "metadata": {},
   "outputs": [
    {
     "data": {
      "image/png": "[encoded data removed]",
      "text/plain": [
       "<Figure size 432x288 with 1 Axes>"
      ]
     },
     "metadata": {
      "needs_background": "light"
     },
     "output_type": "display_data"
    }
   ],
   "source": [
    "foo = np.vstack((sample_Uvar,sample_var)).T\n",
    "# 不偏分散のヒストグラム（オレンジ）\n",
    "plt.hist(foo[:,1], bins=20, density=True, alpha=0.4) # bins(option): 棒の数を指定\n",
    "# 標本分散のヒストグラム（薄青色）\n",
    "plt.hist(foo[:,0], bins=20, density=True, alpha=0.4) # bins(option): 棒の数を指定\n",
    "plt.xlabel(\"variance\")\n",
    "plt.ylabel(\"frequency\")\n",
    "\n",
    "# 標本分散を示す縦線（黒破線）の描画\n",
    "plt.vlines(x=np.mean(sample_var), ymin=0, ymax=0.2, linestyles='dashed', linewidths=1)\n",
    "# 不偏分散を示す縦線（青破線）の描画\n",
    "plt.vlines(x=np.mean(sample_Uvar), ymin=0, ymax=0.2, linestyles='dashed', linewidths=2, color=\"b\")\n",
    "# 母分散を示す縦線（赤実線）の描画\n",
    "plt.vlines(x=p_var, ymin=0, ymax=0.2, linestyles='solid', linewidths=3, color=\"r\",alpha=0.5);"
   ]
  }
 ],
 "metadata": {
  "kernelspec": {
   "display_name": "Python 3",
   "language": "python",
   "name": "python3"
  },
  "language_info": {
   "codemirror_mode": {
    "name": "ipython",
    "version": 3
   },
   "file_extension": ".py",
   "mimetype": "text/x-python",
   "name": "python",
   "nbconvert_exporter": "python",
   "pygments_lexer": "ipython3",
   "version": "3.7.2"
  }
 },
 "nbformat": 4,
 "nbformat_minor": 2
}
