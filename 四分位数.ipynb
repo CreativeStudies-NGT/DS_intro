{
 "cells": [
  {
   "cell_type": "code",
   "execution_count": 1,
   "metadata": {},
   "outputs": [],
   "source": [
    "import numpy as np"
   ]
  },
  {
   "cell_type": "code",
   "execution_count": 2,
   "metadata": {},
   "outputs": [
    {
     "name": "stdout",
     "output_type": "stream",
     "text": [
      "第一四分位: 4.8 第二四分位: 14.0 第三四分位 17.2\n",
      "中央値: 14.0\n"
     ]
    }
   ],
   "source": [
    "# 四分位数を取得\n",
    "# case #1 (n=5)\n",
    "data1 = np.array([3.2, 4.8, 14.0, 17.2, 22.8])\n",
    "\n",
    "q_1st = np.percentile(data1, 25)\n",
    "q_2nd = np.percentile(data1, 50)\n",
    "q_3rd = np.percentile(data1, 75)\n",
    "print(\"第一四分位:\", q_1st, \"第二四分位:\", q_2nd, \"第三四分位\", q_3rd)\n",
    "print(\"中央値:\", np.median(data1))"
   ]
  },
  {
   "cell_type": "code",
   "execution_count": 3,
   "metadata": {},
   "outputs": [
    {
     "name": "stdout",
     "output_type": "stream",
     "text": [
      "第一四分位: 9.0 第二四分位: 14.0 第三四分位 19.0\n",
      "中央値: 14.0\n"
     ]
    }
   ],
   "source": [
    "# 四分位数を取得\n",
    "# case #2 (n=6)\n",
    "data2 = np.array([4, 8, 12, 16, 20, 24])\n",
    "\n",
    "q_1st = np.percentile(data2, 25)\n",
    "q_2nd = np.percentile(data2, 50)\n",
    "q_3rd = np.percentile(data2, 75)\n",
    "print(\"第一四分位:\", q_1st, \"第二四分位:\", q_2nd, \"第三四分位\", q_3rd)\n",
    "print(\"中央値:\", np.median(data2))"
   ]
  },
  {
   "cell_type": "markdown",
   "metadata": {},
   "source": [
    "### 【演習1】n=7, n=8 の場合について、四分位数と中央値を求めよ（データは各自作成せよ）\n",
    "### 【演習2】テキスト p.12 の 例題1-2 を確かめよ"
   ]
  }
 ],
 "metadata": {
  "kernelspec": {
   "display_name": "Python 3",
   "language": "python",
   "name": "python3"
  },
  "language_info": {
   "codemirror_mode": {
    "name": "ipython",
    "version": 3
   },
   "file_extension": ".py",
   "mimetype": "text/x-python",
   "name": "python",
   "nbconvert_exporter": "python",
   "pygments_lexer": "ipython3",
   "version": "3.7.2"
  }
 },
 "nbformat": 4,
 "nbformat_minor": 2
}
