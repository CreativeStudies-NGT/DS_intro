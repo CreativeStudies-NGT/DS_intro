{
 "cells": [
  {
   "cell_type": "markdown",
   "metadata": {},
   "source": [
    "## 2.3 認識と確率\n",
    "### 一様乱数(numpy.random.rand())の動作確認"
   ]
  },
  {
   "cell_type": "code",
   "execution_count": 1,
   "metadata": {},
   "outputs": [
    {
     "data": {
      "text/plain": [
       "array([0.61044873, 0.71460531, 0.50588632, 0.79698996, 0.61001709,\n",
       "       0.77356791, 0.20288645, 0.17652252, 0.73723686, 0.0794901 ])"
      ]
     },
     "execution_count": 1,
     "metadata": {},
     "output_type": "execute_result"
    }
   ],
   "source": [
    "# 0.0以上、1.0未満の一様乱数を10個生成\n",
    "import numpy as np\n",
    "test = np.random.rand(10)\n",
    "test"
   ]
  },
  {
   "cell_type": "markdown",
   "metadata": {},
   "source": [
    "### 連続した確率事象の例1 (p=0.25)"
   ]
  },
  {
   "cell_type": "code",
   "execution_count": 2,
   "metadata": {},
   "outputs": [
    {
     "name": "stdout",
     "output_type": "stream",
     "text": [
      "○○○○○○●○●●●●○○○○●●○○○○○○○○●○●○○○○○○○○○○○\n",
      "○●●○○●○●○○○○○○○○○○○○○●○○○○○○○○○○●○○○○○○○\n",
      "○○○●○○●○○●○○○○○○○○○○○○○○●○○○○○●○○○○●●○○○\n",
      "○○○○○○○○○○○○○●○○○○○○○○○○○○○○○○○○○○○○○●○○\n",
      "○●○●○○○○●○○○●○○●○○○○○○○●●○●●○○○○●○●●●○○○\n",
      "○○○○○○○○○○○○○●○○○○○○○○●○○○○○●●●●●○○○○○○○\n",
      "○●○●●○○○○○○○○○○○○○○●○○○○○●○○●○○●●○○○●○○●\n",
      "○○○○○○○○○○○○○○●○●○○○○○●○○●○○●○○○○○○○○○○○\n",
      "○○●●○○○○●○○○○○○●○○●○●○○○○○●○○○○●○●○○●○○○\n",
      "○○○○○●●○●○○○○○○●○○○●●○○○○●●○●○○○○○○○○○○●\n",
      "○●●○○○○○●○○●○○●○○●○●○○○○●●○○○●○○○○○○○○●●\n",
      "○○●○○○○●○●○●○●○○○○○○○○○○●○○○○○○○○●○●○○●○\n",
      "○●●○○●○○○○○●○○●○●●○○○○●○○○●○○○○○○●●○○○○●\n",
      "○○○●●○○●○○○○○○○○○○●○○○○○●○○○○○○○●●●○○○○○\n",
      "●○○●○○○○○○○●●○○●○○○○○○○○○●○○○●○○○○○○○●●○\n",
      "○○○○○○○○○●●○○○●○○○○○○○○○●●○○○○○○○○○●●○○○\n",
      "○○○●●○●○○○○○○○○○○○●●○○○○○○●○●○●○●○○○○○○○\n",
      "○○○○○○○○○○○○○○○○○○○○○○○○○●●●○●●○○●○○●○○○\n",
      "\n"
     ]
    }
   ],
   "source": [
    "np.random.seed(seed=2000)\n",
    "b = np.random.rand(738)\n",
    "threshold = 0.25  # 打率-like probabilty\n",
    "line = \"\"\n",
    "rep = 0\n",
    "\n",
    "for k in b:\n",
    "    rep += 1\n",
    "    if (rep % 41) == 0:\n",
    "        line += \"\\n\"\n",
    "    else:\n",
    "        if k < threshold:\n",
    "            s = \"●\"\n",
    "        else:\n",
    "            s = \"○\"\n",
    "        line += s\n",
    "print(line)"
   ]
  },
  {
   "cell_type": "markdown",
   "metadata": {},
   "source": [
    "### 連続した確率事象の例2 (p=0.1)"
   ]
  },
  {
   "cell_type": "code",
   "execution_count": 3,
   "metadata": {},
   "outputs": [
    {
     "name": "stdout",
     "output_type": "stream",
     "text": [
      "○○○○○○●○○○○○○○○●○○○○●○○○○●○○○○○○●●○○○○○○\n",
      "●○○○○○●●○○○○○○○○○○○○○○○○○○○○○○○○○○○○○○●○\n",
      "○○○○○○○○○○○○○○○○○●●○●○○○○○○○○○○○○○●○○○○○\n",
      "○○○○○○○○○○○○○○○○○○●○○○○○●○○○●○○○○○○○●○●○\n",
      "○●○○○○○○○●○○○○○○○○○○○○○○○○○○○○○○○○○●○○○○\n",
      "○○○○○○●○○●○○○●●●○○○○○○○○○○○●○○○○●○○○○○○○\n",
      "○○○●○○○○○○○○○○○○○○○●○○○●○○○○○●○○○●○○○●○○\n",
      "●○○●○○○○○○○○○○○○○○○○○○○○○○○○○○○○○○○○○○○○\n",
      "○○●○○○○○○○●●●○○○○●○○○○○○○●○○○○○●○●○○○○○○\n",
      "○○○○○○○○●○○○○○○○●○○○○○●●○○○○○○○○○●○●○○○●\n",
      "○○○○○○○○○○○○○○○○○○○○○○●○○○●○○○○○○○○○○○○○\n",
      "○○○○○○○○○○○○○○○○●○○○○○○○●○○○○●○○●○○○○●○○\n",
      "○●○○○○○○○○○○○○○○○○○○○○○○○○○○●○○○●○○○○○○○\n",
      "○○○●○○○○○●○○○○○○○●○○○○○○○○○○○○○○○○○○○○○○\n",
      "○○○○○○○○○○○○○○○○○○○○○○○○○○○○○○●○○●○○○○○○\n",
      "○●○○○●○○○○○○○○●○○○○●●○○○○●○●○○○○○●○○●○○○\n",
      "○○○○○○○○○○●○○○○○●○○●○○○○○○○○●○○●○○○○○○○○\n",
      "○○○○○○○○○○○○○○○○○○○○○○○○○○○○○○○○○○○○○○○○\n",
      "\n"
     ]
    }
   ],
   "source": [
    "np.random.seed(seed=1000)\n",
    "b = np.random.rand(738)\n",
    "threshold = 0.1\n",
    "line = \"\"\n",
    "rep = 0\n",
    "\n",
    "for k in b:\n",
    "    rep += 1\n",
    "    if (rep % 41) == 0:\n",
    "        line += \"\\n\"\n",
    "    else:\n",
    "        if k < threshold:\n",
    "            s = \"●\"\n",
    "        else:\n",
    "            s = \"○\"\n",
    "        line += s\n",
    "print(line)"
   ]
  }
 ],
 "metadata": {
  "kernelspec": {
   "display_name": "Python 3",
   "language": "python",
   "name": "python3"
  },
  "language_info": {
   "codemirror_mode": {
    "name": "ipython",
    "version": 3
   },
   "file_extension": ".py",
   "mimetype": "text/x-python",
   "name": "python",
   "nbconvert_exporter": "python",
   "pygments_lexer": "ipython3",
   "version": "3.7.2"
  },
  "toc": {
   "base_numbering": 1,
   "nav_menu": {},
   "number_sections": true,
   "sideBar": true,
   "skip_h1_title": false,
   "title_cell": "Table of Contents",
   "title_sidebar": "Contents",
   "toc_cell": false,
   "toc_position": {},
   "toc_section_display": true,
   "toc_window_display": false
  }
 },
 "nbformat": 4,
 "nbformat_minor": 2
}
