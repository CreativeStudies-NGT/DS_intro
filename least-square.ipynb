{
 "cells": [
  {
   "cell_type": "markdown",
   "metadata": {},
   "source": [
    "## 線形回帰（最小二乗法）"
   ]
  },
  {
   "cell_type": "code",
   "execution_count": 1,
   "metadata": {},
   "outputs": [],
   "source": [
    "%matplotlib inline\n",
    "import numpy as np\n",
    "import matplotlib.pyplot as plt"
   ]
  },
  {
   "cell_type": "code",
   "execution_count": 2,
   "metadata": {},
   "outputs": [],
   "source": [
    "shoe = np.array([24.5, 28.0, 26.0, 25.5, 25.0, 24.0])\n",
    "height = np.array([165.4, 182.7, 171.6, 173.1, 175.1, 170.6])"
   ]
  },
  {
   "cell_type": "code",
   "execution_count": 3,
   "metadata": {},
   "outputs": [
    {
     "data": {
      "image/png": "[encoded data removed]",
      "text/plain": [
       "<Figure size 432x288 with 1 Axes>"
      ]
     },
     "metadata": {
      "needs_background": "light"
     },
     "output_type": "display_data"
    }
   ],
   "source": [
    "plt.scatter(shoe, height);"
   ]
  },
  {
   "cell_type": "code",
   "execution_count": 4,
   "metadata": {},
   "outputs": [
    {
     "data": {
      "text/plain": [
       "array([[1.       , 0.8322933],\n",
       "       [0.8322933, 1.       ]])"
      ]
     },
     "execution_count": 4,
     "metadata": {},
     "output_type": "execute_result"
    }
   ],
   "source": [
    "# shoe-heightデータ間の相関関数行列 (p.142)\n",
    "# 相関自体は、回帰モデルとは無関係なことに注意（cf.決定係数）\n",
    "np.corrcoef(shoe, height)"
   ]
  },
  {
   "cell_type": "code",
   "execution_count": 5,
   "metadata": {},
   "outputs": [
    {
     "data": {
      "text/plain": [
       "array([4052.3 , 5115.6 , 4461.6 , 4414.05, 4377.5 , 4094.4 ])"
      ]
     },
     "execution_count": 5,
     "metadata": {},
     "output_type": "execute_result"
    }
   ],
   "source": [
    "shoe*height"
   ]
  },
  {
   "cell_type": "code",
   "execution_count": 6,
   "metadata": {},
   "outputs": [
    {
     "data": {
      "text/plain": [
       "4419.241666666666"
      ]
     },
     "execution_count": 6,
     "metadata": {},
     "output_type": "execute_result"
    }
   ],
   "source": [
    "xy_bar = np.mean(shoe*height)\n",
    "xy_bar"
   ]
  },
  {
   "cell_type": "code",
   "execution_count": 7,
   "metadata": {},
   "outputs": [
    {
     "data": {
      "text/plain": [
       "4413.625"
      ]
     },
     "execution_count": 7,
     "metadata": {},
     "output_type": "execute_result"
    }
   ],
   "source": [
    "x_bar_y_bar = np.mean(shoe)*np.mean(height)\n",
    "x_bar_y_bar"
   ]
  },
  {
   "cell_type": "code",
   "execution_count": 8,
   "metadata": {},
   "outputs": [
    {
     "data": {
      "text/plain": [
       "651.9166666666666"
      ]
     },
     "execution_count": 8,
     "metadata": {},
     "output_type": "execute_result"
    }
   ],
   "source": [
    "x2_bar = np.mean(shoe**2)\n",
    "x2_bar"
   ]
  },
  {
   "cell_type": "code",
   "execution_count": 9,
   "metadata": {},
   "outputs": [
    {
     "data": {
      "text/plain": [
       "650.25"
      ]
     },
     "execution_count": 9,
     "metadata": {},
     "output_type": "execute_result"
    }
   ],
   "source": [
    "x_bar2 = np.mean(shoe)**2\n",
    "x_bar2"
   ]
  },
  {
   "cell_type": "code",
   "execution_count": 10,
   "metadata": {},
   "outputs": [
    {
     "data": {
      "text/plain": [
       "3.3699999999996035"
      ]
     },
     "execution_count": 10,
     "metadata": {},
     "output_type": "execute_result"
    }
   ],
   "source": [
    "a = (xy_bar-x_bar_y_bar)/(x2_bar-x_bar2)\n",
    "a"
   ]
  },
  {
   "cell_type": "code",
   "execution_count": 11,
   "metadata": {},
   "outputs": [
    {
     "data": {
      "text/plain": [
       "87.14833333334346"
      ]
     },
     "execution_count": 11,
     "metadata": {},
     "output_type": "execute_result"
    }
   ],
   "source": [
    "b = np.mean(height) - a*np.mean(shoe)\n",
    "b"
   ]
  },
  {
   "cell_type": "code",
   "execution_count": 12,
   "metadata": {},
   "outputs": [
    {
     "data": {
      "image/png": "[encoded data removed]",
      "text/plain": [
       "<Figure size 432x288 with 1 Axes>"
      ]
     },
     "metadata": {
      "needs_background": "light"
     },
     "output_type": "display_data"
    }
   ],
   "source": [
    "def lsf(x, a, b):\n",
    "    return a*x+b\n",
    "\n",
    "plt.scatter(shoe, height)\n",
    "xs=np.arange(22,31)\n",
    "plt.plot(xs, lsf(xs, a, b))\n",
    "\n",
    "plt.title(\"Correlation between shoe size & height\")\n",
    "plt.xlabel(\"Shoe size [cm]\")\n",
    "plt.ylabel(\"Height [cm]\");"
   ]
  },
  {
   "cell_type": "markdown",
   "metadata": {},
   "source": [
    "## 決定係数 ($R^2$)\n",
    "回帰モデルで実データをどの程度説明できるかを示す指標\n",
    "$$R^2 = \\frac{S_R}{S_T}$$\n",
    "ここで、\n",
    "$$ S_R = \\displaystyle \\sum_{i = 1}^n {\\left(Y_i - \\overline{y} \\right)}^2,\n",
    "S_T = \\displaystyle \\sum_{i = 1}^n {\\left(y_i - \\overline{y} \\right)}^2 $$ である。\n",
    "ただし、$S_R$は回帰変動、$S_T$は全体変動、$y_i$ は $n$ 個のデータ中の $i$ 番目の実測値、$\\bar{y}$ は実測値 $y$ の平均、$Y_i$ は回帰モデルによる推定値を表す。\n",
    "**直線で回帰するモデルの場合には**、結果として決定係数は、回帰モデルとは無関係に定義される相関係数の2乗となる。"
   ]
  },
  {
   "cell_type": "code",
   "execution_count": 13,
   "metadata": {},
   "outputs": [
    {
     "data": {
      "text/plain": [
       "0.6927121349203926"
      ]
     },
     "execution_count": 13,
     "metadata": {},
     "output_type": "execute_result"
    }
   ],
   "source": [
    "Y = lsf(shoe, a, b)\n",
    "Sr = np.sum((Y-np.mean(height))**2)\n",
    "St = np.sum((height-np.mean(height))**2)\n",
    "R2 = Sr/St\n",
    "R2"
   ]
  },
  {
   "cell_type": "code",
   "execution_count": 14,
   "metadata": {},
   "outputs": [
    {
     "data": {
      "text/plain": [
       "0.6927121349205542"
      ]
     },
     "execution_count": 14,
     "metadata": {},
     "output_type": "execute_result"
    }
   ],
   "source": [
    "# 相関係数の2乗\n",
    "np.corrcoef(shoe, height)[1][0]**2"
   ]
  },
  {
   "cell_type": "markdown",
   "metadata": {},
   "source": [
    "## 【発展】行列を用いた一般化\n",
    "    重回帰 or 多項式への回帰にも容易に拡張可能。"
   ]
  },
  {
   "cell_type": "code",
   "execution_count": 15,
   "metadata": {},
   "outputs": [
    {
     "name": "stdout",
     "output_type": "stream",
     "text": [
      "(6, 2)\n",
      "[[ 1.  24.5]\n",
      " [ 1.  28. ]\n",
      " [ 1.  26. ]\n",
      " [ 1.  25.5]\n",
      " [ 1.  25. ]\n",
      " [ 1.  24. ]]\n"
     ]
    }
   ],
   "source": [
    "# （例1）上と同じ問題を計画行列（デザイン行列）を用いて実装\n",
    "shoe = np.array([24.5, 28.0, 26.0, 25.5, 25.0, 24.0])\n",
    "height = np.array([165.4, 182.7, 171.6, 173.1, 175.1, 170.6])\n",
    "\n",
    "def phi_1(x):\n",
    "    return [1, x]\n",
    "\n",
    "design = np.array([phi_1(k) for k in shoe])\n",
    "print(design.shape)\n",
    "print(design)"
   ]
  },
  {
   "cell_type": "code",
   "execution_count": 16,
   "metadata": {},
   "outputs": [
    {
     "name": "stdout",
     "output_type": "stream",
     "text": [
      "[87.14833333  3.37      ]\n"
     ]
    },
    {
     "data": {
      "image/png": "[encoded data removed]",
      "text/plain": [
       "<Figure size 432x288 with 1 Axes>"
      ]
     },
     "metadata": {
      "needs_background": "light"
     },
     "output_type": "display_data"
    }
   ],
   "source": [
    "#　係数ベクトル b の計算\n",
    "w = np.dot(np.linalg.inv(np.dot(design.T, design)), np.dot(design.T, height))\n",
    "print(w)\n",
    "\n",
    "#　回帰曲線の描画準備\n",
    "x_reg = np.arange(22, 31)\n",
    "y_reg = [np.dot(w, phi_1(shoe)) for shoe in x_reg]\n",
    "\n",
    "#　データと回帰曲線の描画\n",
    "plt.plot(x_reg, y_reg)\n",
    "plt.plot(shoe, height, \"o\")\n",
    "plt.title(\"Correlation between shoe size & height\")\n",
    "plt.xlabel(\"Shoe size [cm]\")\n",
    "plt.ylabel(\"Height [cm]\");"
   ]
  },
  {
   "cell_type": "code",
   "execution_count": 17,
   "metadata": {},
   "outputs": [],
   "source": [
    "# （例）二次関数の回帰\n",
    "np.random.seed(100)\n",
    "x = np.arange(-10,11)\n",
    "noise=np.random.normal(0, 1, 21)\n",
    "y = 2 + x * (1 + noise*1.5) + x * x"
   ]
  },
  {
   "cell_type": "code",
   "execution_count": 18,
   "metadata": {},
   "outputs": [
    {
     "name": "stdout",
     "output_type": "stream",
     "text": [
      "(21, 3)\n",
      "[[  1 -10 100]\n",
      " [  1  -9  81]\n",
      " [  1  -8  64]\n",
      " [  1  -7  49]\n",
      " [  1  -6  36]\n",
      " [  1  -5  25]]\n"
     ]
    }
   ],
   "source": [
    "def phi_2(x):\n",
    "    return [1, x, x*x]\n",
    "\n",
    "design = np.array([phi_2(k) for k in x])\n",
    "print(design.shape)\n",
    "print(design[:6])"
   ]
  },
  {
   "cell_type": "code",
   "execution_count": 19,
   "metadata": {},
   "outputs": [
    {
     "name": "stdout",
     "output_type": "stream",
     "text": [
      "[-0.0756621   1.08572245  1.07896157]\n"
     ]
    },
    {
     "data": {
      "image/png": "[encoded data removed]",
      "text/plain": [
       "<Figure size 432x288 with 1 Axes>"
      ]
     },
     "metadata": {
      "needs_background": "light"
     },
     "output_type": "display_data"
    }
   ],
   "source": [
    "#　係数ベクトル b の計算\n",
    "w = np.dot(np.linalg.inv(np.dot(design.T, design)), np.dot(design.T, y))\n",
    "print(w)\n",
    "\n",
    "#　回帰曲線の描画準備\n",
    "x_reg = np.arange(x.min(), x.max(), 0.5)\n",
    "y_reg = [np.dot(w, phi_2(x)) for x in x_reg]\n",
    "\n",
    "#　データと回帰曲線の描画\n",
    "plt.plot(x_reg, y_reg)\n",
    "plt.plot(x, y, \"o\");"
   ]
  },
  {
   "cell_type": "code",
   "execution_count": 20,
   "metadata": {},
   "outputs": [],
   "source": [
    "# 参考情報：\n",
    "# https://mathtrain.jp/leastsquarematrix\n",
    "# ここで現れる1列目に1が並ぶ行列は、計画行列またはデザイン行列と呼ばれます。"
   ]
  }
 ],
 "metadata": {
  "kernelspec": {
   "display_name": "Python 3",
   "language": "python",
   "name": "python3"
  },
  "language_info": {
   "codemirror_mode": {
    "name": "ipython",
    "version": 3
   },
   "file_extension": ".py",
   "mimetype": "text/x-python",
   "name": "python",
   "nbconvert_exporter": "python",
   "pygments_lexer": "ipython3",
   "version": "3.7.2"
  },
  "toc": {
   "base_numbering": 1,
   "nav_menu": {},
   "number_sections": true,
   "sideBar": true,
   "skip_h1_title": false,
   "title_cell": "Table of Contents",
   "title_sidebar": "Contents",
   "toc_cell": false,
   "toc_position": {},
   "toc_section_display": true,
   "toc_window_display": false
  }
 },
 "nbformat": 4,
 "nbformat_minor": 2
}
